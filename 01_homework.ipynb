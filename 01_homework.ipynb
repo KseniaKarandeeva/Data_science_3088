{
 "cells": [
  {
   "cell_type": "markdown",
   "id": "ea86d2ad",
   "metadata": {},
   "source": [
    "# Домашнее задание"
   ]
  },
  {
   "cell_type": "markdown",
   "id": "d460ddcc",
   "metadata": {},
   "source": [
    "- Установите у себя Anaconda* и Git.\n",
    "\n",
    "- Создайте виртуальное окружение, активируйте его и установите Jupyterlab (conda install -c conda-forge jupyterlab).\n",
    "\n",
    "- Зарегистрируйтесь на GitHub и создайте репозиторий.\n",
    "\n",
    "*Если вы уверены в себе, можете воспользоваться другим пакетным менеджером по выбору.\n",
    "\n",
    "- Откройте копию этой тетради у себя в Jupyter.\n",
    "\n",
    "- Выберите уровень сложности и решите соответствующую задачу ниже.\n",
    "\n",
    "Когда закончите, ячейки с нерешенными задачами можно удалить."
   ]
  },
  {
   "cell_type": "markdown",
   "id": "0dd65c20",
   "metadata": {},
   "source": [
    "## Easy"
   ]
  },
  {
   "cell_type": "markdown",
   "id": "49fea278",
   "metadata": {},
   "source": [
    "Напишите функцию, которая:\n",
    "\n",
    "- принимает одно число в качестве аргумента;\n",
    "- возвращает обратное число (1/x)."
   ]
  },
  {
   "cell_type": "code",
   "execution_count": 11,
   "id": "4ab8b91e",
   "metadata": {},
   "outputs": [],
   "source": [
    "def inv(x):\n",
    "    return 1/x if x else 'Ошибка: деление на ноль'"
   ]
  },
  {
   "cell_type": "code",
   "execution_count": 16,
   "id": "b921a48b",
   "metadata": {},
   "outputs": [
    {
     "data": {
      "text/plain": [
       "True"
      ]
     },
     "execution_count": 16,
     "metadata": {},
     "output_type": "execute_result"
    }
   ],
   "source": [
    "# Должно быть истинно:\n",
    "inv(5) == 0.2 "
   ]
  },
  {
   "cell_type": "markdown",
   "id": "787145ed",
   "metadata": {},
   "source": [
    "Что случится, если в функцию передать 0? Напишите ответ в ячейке ниже:\n",
    "\n",
    "Ответ: данный вариант предусмотрен, выведется сообщение об ошибке"
   ]
  },
  {
   "cell_type": "markdown",
   "id": "9fdf5d79",
   "metadata": {},
   "source": [
    "## Normal"
   ]
  },
  {
   "cell_type": "markdown",
   "id": "fdc7382e",
   "metadata": {},
   "source": [
    "Напишите функцию, которая принимает список целых чисел и возвращает медиану.\n",
    "\n",
    "Алгоритм нахождения медианы:\n",
    "\n",
    "- список сортируется;\n",
    "- если число элементов нечетное, возвращается центральный элемент отсортированного списка;\n",
    "- если число элементов четное, возвращается среднее арифметическое двух соседних элементов в середине отсортированнного списка."
   ]
  },
  {
   "cell_type": "code",
   "execution_count": 80,
   "id": "b2ba8534",
   "metadata": {},
   "outputs": [],
   "source": [
    "from math import floor\n",
    "\n",
    "def median(array):\n",
    "    array.sort()\n",
    "    #if len(array) % 2 != 0:\n",
    "        # в случае нечетной длины - индекс медианы = длина списка /2 и округляем вверх\n",
    "        #return array[floor(len(array)/2)]    \n",
    "    #else:\n",
    "        # в случае четной длины - ср.арифм. 2х элементов с индексами: длина списка /2 и предыдущий\n",
    "        #return (array[int(len(array)/2)] + array[int(len(array)/2) - 1]) / 2\n",
    "    \n",
    "    return array[floor(len(array)/2)] if len(array) % 2 != 0 else (array[int(len(array)/2)] + array[int(len(array)/2) - 1]) / 2"
   ]
  },
  {
   "cell_type": "code",
   "execution_count": 81,
   "id": "b5002571",
   "metadata": {},
   "outputs": [
    {
     "data": {
      "text/plain": [
       "True"
      ]
     },
     "execution_count": 81,
     "metadata": {},
     "output_type": "execute_result"
    }
   ],
   "source": [
    "# Должно быть истинно:\n",
    "median([1, 4, 6, 5, 2, 100]) == 4.5"
   ]
  },
  {
   "cell_type": "code",
   "execution_count": 82,
   "id": "37c51a64",
   "metadata": {},
   "outputs": [
    {
     "data": {
      "text/plain": [
       "True"
      ]
     },
     "execution_count": 82,
     "metadata": {},
     "output_type": "execute_result"
    }
   ],
   "source": [
    "# Должно быть истинно:\n",
    "median([25, 1, 4, 6, 5, 2, 100]) == 5"
   ]
  },
  {
   "cell_type": "markdown",
   "id": "34d41844",
   "metadata": {},
   "source": [
    "Какого типа получилось возвращамое значение? Напишите ответ в ячейке ниже:\n",
    "\n",
    "Ответ: int"
   ]
  },
  {
   "cell_type": "markdown",
   "id": "65257d34",
   "metadata": {},
   "source": [
    "## Hard"
   ]
  },
  {
   "cell_type": "markdown",
   "id": "f4b2e2cf",
   "metadata": {},
   "source": [
    "Ознакомьтесь самостоятельно с основными методами для работы со строками (https://docs.python.org/3/library/stdtypes.html#string-methods) и документацией к стандартной функции sorted() (https://docs.python.org/3/howto/sorting.html).\n",
    "\n",
    "Напишите функцию, которая:\n",
    "                                                                         \n",
    "\n",
    "- принимает на вход список файлов с расширениями;\n",
    "                                                                         \n",
    "- возвращает список, отсортированный по расширению в алфавитном порядке(a-z).\n",
    "                                                                         \n",
    "У файла может быть только одно расширение."
   ]
  },
  {
   "cell_type": "code",
   "execution_count": 165,
   "id": "c3532ef6",
   "metadata": {},
   "outputs": [],
   "source": [
    "def sort_by_ext(array):\n",
    "    return sorted(array, key=lambda x: x[x.find('.')+1] if x and x[x.find('.')] != x[-1] else '')"
   ]
  },
  {
   "cell_type": "markdown",
   "id": "701210aa",
   "metadata": {},
   "source": [
    "Сортируем список используя метод sorted с параметром key, где в lambda указываем индекс элемента для сортировки - следующий после точки. Точку находим методом строк find. Добавила условие для исключительных случаев."
   ]
  },
  {
   "cell_type": "code",
   "execution_count": 166,
   "id": "0d4eafed",
   "metadata": {},
   "outputs": [
    {
     "data": {
      "text/plain": [
       "True"
      ]
     },
     "execution_count": 166,
     "metadata": {},
     "output_type": "execute_result"
    }
   ],
   "source": [
    "# Должно быть истинно:\n",
    "sort_by_ext([\"1.cad\", \"1.bat\", \"1.aa\"]) == [\"1.aa\", \"1.bat\", \"1.cad\"]"
   ]
  },
  {
   "cell_type": "code",
   "execution_count": 173,
   "id": "503a2db8",
   "metadata": {},
   "outputs": [
    {
     "data": {
      "text/plain": [
       "['', '1.aa', '1.xat']"
      ]
     },
     "execution_count": 173,
     "metadata": {},
     "output_type": "execute_result"
    }
   ],
   "source": [
    "sort_by_ext([\"1.xat\", \"\", \"1.aa\"])"
   ]
  },
  {
   "cell_type": "code",
   "execution_count": 174,
   "id": "9f8ab809",
   "metadata": {},
   "outputs": [
    {
     "data": {
      "text/plain": [
       "['1.aa', '.file', '1.xat']"
      ]
     },
     "execution_count": 174,
     "metadata": {},
     "output_type": "execute_result"
    }
   ],
   "source": [
    "sort_by_ext([\".file\", \"1.xat\", \"1.aa\"])"
   ]
  },
  {
   "cell_type": "code",
   "execution_count": 179,
   "id": "791d544e",
   "metadata": {},
   "outputs": [
    {
     "data": {
      "text/plain": [
       "['file.', '1.ba', '1.mat']"
      ]
     },
     "execution_count": 179,
     "metadata": {},
     "output_type": "execute_result"
    }
   ],
   "source": [
    "sort_by_ext([\"1.mat\", \"file.\", \"1.ba\"])"
   ]
  },
  {
   "cell_type": "markdown",
   "id": "b1d5683d",
   "metadata": {},
   "source": [
    "Как ваша функция справляется с крайними случаями?\n",
    "\n",
    "- пустая строка;\n",
    "\n",
    "- файл без имени, но с расширением;\n",
    "\n",
    "- файл с пустым расширением (точка присутствует, например file.)\n",
    "\n",
    "Напишите ответ в ячейке ниже:\n",
    "\n",
    "Ответ: \n",
    "1. Пустая строка и строка без расширения сортируются - ставится на 0 элемент\n",
    "\n",
    "2. Файл без имени, но с расширением тоже сортируется по правилу"
   ]
  }
 ],
 "metadata": {
  "kernelspec": {
   "display_name": "Python 3 (ipykernel)",
   "language": "python",
   "name": "python3"
  },
  "language_info": {
   "codemirror_mode": {
    "name": "ipython",
    "version": 3
   },
   "file_extension": ".py",
   "mimetype": "text/x-python",
   "name": "python",
   "nbconvert_exporter": "python",
   "pygments_lexer": "ipython3",
   "version": "3.10.9"
  }
 },
 "nbformat": 4,
 "nbformat_minor": 5
}
