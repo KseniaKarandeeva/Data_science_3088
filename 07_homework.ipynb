{
 "cells": [
  {
   "cell_type": "markdown",
   "id": "a5ab5d20-bcbc-4ac7-b945-3afe5e50a492",
   "metadata": {},
   "source": [
    "# Статистические эксперименты и проверка гипотез"
   ]
  },
  {
   "cell_type": "code",
   "execution_count": 101,
   "id": "0ca37de1-19e0-4b8a-a7d5-78148739f642",
   "metadata": {},
   "outputs": [],
   "source": [
    "import numpy as np\n",
    "import scipy.stats as st\n",
    "import matplotlib.pyplot as plt"
   ]
  },
  {
   "cell_type": "markdown",
   "id": "231c53ac-79f0-42c9-ae76-ac1e9819718c",
   "metadata": {},
   "source": [
    "## Доверительные интервалы"
   ]
  },
  {
   "cell_type": "markdown",
   "id": "aa3d0408-7565-4fa3-9b67-77bb38db881a",
   "metadata": {},
   "source": [
    "Как мы видели, для разных выборок оценка параметров (и описательные статистики) различаются, даже если распеделение одинаково. Таким образом, оценка - тоже случайная величина, со своим распределением и статистикой.\n",
    "\n",
    "Возьмем какой-нибудь интервал вокруг нашей оценки $\\bar\\theta$:"
   ]
  },
  {
   "cell_type": "markdown",
   "id": "5625501d-63bf-4a03-b866-f1a34de860a5",
   "metadata": {},
   "source": [
    "$$\n",
    "\\mathcal{I} = \\left[\\bar\\theta - \\epsilon, \\bar\\theta + \\epsilon \\right]\n",
    "$$"
   ]
  },
  {
   "cell_type": "markdown",
   "id": "04cc999e-7c12-4a79-a873-6ef86a846067",
   "metadata": {},
   "source": [
    "Какова вероятность, что настоящий параметр лежит внутри? "
   ]
  },
  {
   "cell_type": "markdown",
   "id": "f10d1be4-97bb-46d8-81cc-342d0bb37b72",
   "metadata": {},
   "source": [
    "$$\n",
    "\\mathbb{P}[\\theta \\in \\mathcal{I}] = \\mathbb{P}[\\bar\\theta - \\epsilon \\leqslant \\theta \\leqslant \\bar\\theta + \\epsilon]\n",
    "$$"
   ]
  },
  {
   "cell_type": "markdown",
   "id": "ab814e0c-5bd7-40e9-b8c2-c01988849eb1",
   "metadata": {},
   "source": [
    "На практике мы обычно определяем $\\epsilon$, для которого $\\mathbb{P}[\\theta \\in \\mathcal{I}] \\geqslant 1 - \\alpha$, где $\\alpha$ называется **уровнем значимости**. Иными словами, при $\\alpha = 0.05$ получится 95% **доверительный интервал**.\n",
    "\n",
    "Важно не забывать, что интервал строится вокруг нашей оценки, а не истинного параметра! Он может оказаться в любом месте интервала, или, с вероятностью в пределах $\\alpha$, вне его."
   ]
  },
  {
   "cell_type": "markdown",
   "id": "4caf748d-4812-4ef1-b63f-ee8aa85add78",
   "metadata": {},
   "source": [
    "### Доверительный интервал для среднего"
   ]
  },
  {
   "cell_type": "markdown",
   "id": "6f695f87-b0da-4f65-9382-3be9684d540b",
   "metadata": {},
   "source": [
    "Как следствие из ЦПТ, выборочное среднее стремится распределиться как\n",
    "\n",
    "$$\n",
    "\\bar X \\sim \\mathcal{N}(\\mu, \\sigma^2/n)\n",
    "$$"
   ]
  },
  {
   "cell_type": "markdown",
   "id": "e50ee046-c225-420a-bb49-164c6f3171f8",
   "metadata": {},
   "source": [
    "Или, что то же самое, \n",
    "\n",
    "$$\n",
    "\\sqrt{n}\\frac{\\bar X - \\mu}{\\sigma} \\sim \\mathcal{N}(0,1)\n",
    "$$"
   ]
  },
  {
   "cell_type": "markdown",
   "id": "e02d5b8c-d907-41c2-a3f2-18eaef58d701",
   "metadata": {},
   "source": [
    "Такую нормализованную величину обычно обозначают буквой $Z$."
   ]
  },
  {
   "cell_type": "markdown",
   "id": "b4892d54-28ff-499a-9ccf-fef33955aa09",
   "metadata": {},
   "source": [
    "Как мы помним, начение $z$, при котором площадь под кривой равна $\\alpha$, это ее PPF от $\\alpha$. Поскольку стандартная гауссиана симметрична относительно нуля, нам легко найти и интервал $[-z, z]$, где площадь под кривой соответствует $1-\\alpha$: это $[-PPF((1 - \\alpha)/2), +PPF((1 - \\alpha)/2)]$.\n",
    "\n",
    "Или, говоря проще, 95% ближайших к центру значений $\\sim \\mathcal{N}(0,1)$ лежат в этом промежутке."
   ]
  },
  {
   "cell_type": "markdown",
   "id": "78bbfabe-7f0a-482c-a4dd-34ded0715669",
   "metadata": {},
   "source": [
    "Вернемся к формуле выше: если говорить упрощенно, ошибка $(\\bar X - \\mu)$ распределена нормально, как $Z\\frac{\\sigma}{\\sqrt{n}}$, другими словами, наш искомый интервал будет:\n",
    "\n",
    "$$\n",
    "\\mathcal{I} = \\left[\\bar x - PPF_Z(1 - \\alpha/2)\\frac{\\sigma}{\\sqrt{n}},\\text{   } \\bar x + PPF_Z(1 -\\alpha/2)\\frac{\\sigma}{\\sqrt{n}}\\right]\n",
    "$$"
   ]
  },
  {
   "cell_type": "markdown",
   "id": "2b1b025e-49f1-404e-9159-99557e463197",
   "metadata": {},
   "source": [
    "Для краткости *критические значения* вроде $PPF_Z(1 - \\alpha)$ обычно записывают как $z_\\alpha$."
   ]
  },
  {
   "cell_type": "code",
   "execution_count": 102,
   "id": "0eaedd77-fbf5-4e9f-9cd0-9eaf3ef69448",
   "metadata": {},
   "outputs": [
    {
     "name": "stdout",
     "output_type": "stream",
     "text": [
      "95% доверительный интервал среднего: 1.1082476373696797 .. 2.676218825001723\n"
     ]
    }
   ],
   "source": [
    "X = np.random.exponential(2, 100)\n",
    "Z = st.norm(0, 1)\n",
    "z = Z.ppf(1 - 0.05/2)\n",
    "print(f'95% доверительный интервал среднего: {X.mean() - z * 4 / 10} .. {X.mean() + z * 4 / 10}')"
   ]
  },
  {
   "cell_type": "markdown",
   "id": "4827400f-c741-438f-9e2a-b97108496ec6",
   "metadata": {},
   "source": [
    "Величина $\\frac{\\sigma}{\\sqrt{n}}$ называется **стандартной ошибкой**. Как видно, чем больше выборка, тем уже интервал."
   ]
  },
  {
   "cell_type": "code",
   "execution_count": 103,
   "id": "c9d8362b-2843-40ea-a7c1-033533d33174",
   "metadata": {},
   "outputs": [
    {
     "data": {
      "text/plain": [
       "(1.1082476373696797, 2.676218825001723)"
      ]
     },
     "execution_count": 103,
     "metadata": {},
     "output_type": "execute_result"
    }
   ],
   "source": [
    "st.norm.interval(0.95, loc=X.mean(), scale=4/10)"
   ]
  },
  {
   "cell_type": "markdown",
   "id": "0903e836-e4f4-43cb-b9a6-5450debbe0c8",
   "metadata": {},
   "source": [
    "### Распределение Стьюдента"
   ]
  },
  {
   "cell_type": "markdown",
   "id": "5560bbe8-defd-439e-b8b4-bcac4c08ec06",
   "metadata": {},
   "source": [
    "Если перейти к выборочной дисперсии, то\n",
    "\n",
    "$$\n",
    "\\sqrt{n}\\frac{\\bar X - \\mu}{s}\n",
    "$$\n",
    "\n",
    "Уже не будет распределено нормально. Тем не менее, эта величина также имеет характерное распределение - распределение Стьюдента."
   ]
  },
  {
   "cell_type": "code",
   "execution_count": 104,
   "id": "d6d2c630-4ae1-4fbd-a74a-bcedbd7a2bda",
   "metadata": {},
   "outputs": [],
   "source": [
    "X1 = st.norm(0,1)\n",
    "X2 = st.t(1)\n",
    "X3 = st.t(5)"
   ]
  },
  {
   "cell_type": "code",
   "execution_count": 105,
   "id": "e85b8325-f8b0-4b33-b64e-04ac6d59b1e9",
   "metadata": {},
   "outputs": [
    {
     "data": {
      "image/png": "[encoded data removed]",
      "text/plain": [
       "<Figure size 1200x500 with 2 Axes>"
      ]
     },
     "metadata": {},
     "output_type": "display_data"
    }
   ],
   "source": [
    "fig, ax = plt.subplots(1, 2, figsize=(12, 5))\n",
    "plt.suptitle('PDF и CDF распределения Стьюдента')\n",
    "ax[0].set(xlabel = 'Значения X', ylabel = 'Плотность вероятности')\n",
    "ax[1].set(xlabel = 'Верхний предел X', ylabel = 'Вероятность')\n",
    "\n",
    "points = np.linspace(-5, 5, 100)\n",
    "pdf1 = np.array([X1.pdf(x) for x in points])\n",
    "ax[0].plot(points, pdf1);\n",
    "pdf2 = np.array([X2.pdf(x) for x in points])\n",
    "ax[0].plot(points, pdf2);\n",
    "pdf3 = np.array([X3.pdf(x) for x in points])\n",
    "ax[0].plot(points, pdf3);\n",
    "ax[0].legend(['Нормальное', '$t_1$', '$t_5$'])\n",
    "\n",
    "cdf1 = np.array([X1.cdf(x) for x in points])\n",
    "ax[1].plot(points, cdf1);\n",
    "cdf2 = np.array([X2.cdf(x) for x in points])\n",
    "ax[1].plot(points, cdf2);\n",
    "cdf3 = np.array([X3.cdf(x) for x in points])\n",
    "ax[1].plot(points, cdf3);"
   ]
  },
  {
   "cell_type": "markdown",
   "id": "2eedbb33-8110-407b-88e7-bd539eb7291c",
   "metadata": {},
   "source": [
    "Как видно, форма очень похожа на нормальную, но \"хвосты\" распредения тяжелее. У него один параметр - число степеней свободы, с ростом которого оно приближается к нормальному."
   ]
  },
  {
   "cell_type": "markdown",
   "id": "88b70298-d1d7-4a8c-bb01-edc8a89ab1ef",
   "metadata": {},
   "source": [
    "При достаточно большом $n$\n",
    "\n",
    "$$\n",
    "\\sqrt{n}\\frac{\\bar X - \\mu}{s} \\sim t(n-1)\n",
    "$$"
   ]
  },
  {
   "cell_type": "markdown",
   "id": "392b62c4-5f04-44f9-be07-7ed9a9a00faa",
   "metadata": {},
   "source": [
    "#### Самостоятельная работа"
   ]
  },
  {
   "cell_type": "markdown",
   "id": "56f7c3ee-531a-49f0-a016-39dd2d631cca",
   "metadata": {},
   "source": [
    "Вычислите 95% доверительный интервал среднего для уже объявленной выборки X. Используйте вычисление выше как образец.\n",
    "Вам понадобится `scipy.stats.t(n-1)`."
   ]
  },
  {
   "cell_type": "code",
   "execution_count": 106,
   "id": "d82a6821-f643-48dd-a083-277ee11726d1",
   "metadata": {},
   "outputs": [],
   "source": [
    "# Ваш код ниже:\n"
   ]
  },
  {
   "cell_type": "markdown",
   "id": "5a848854-913e-42fa-88e4-c6872b48637c",
   "metadata": {},
   "source": [
    "Проверьте результат с помощью scipy:"
   ]
  },
  {
   "cell_type": "code",
   "execution_count": 107,
   "id": "ed91453f-3f01-4a99-95fa-f90af58cd609",
   "metadata": {},
   "outputs": [
    {
     "data": {
      "text/plain": [
       "array([9.53715734e-01, 6.82301802e-01, 5.59460186e-01, 5.54614615e+00,\n",
       "       3.33445225e+00, 7.10119030e-01, 2.59080240e+00, 1.09967368e+00,\n",
       "       6.33260973e-01, 3.83772884e-03, 1.76817500e-01, 4.24395994e-01,\n",
       "       4.61848114e+00, 3.94693690e-01, 1.32077362e+01, 3.52859742e+00,\n",
       "       1.19782227e+00, 1.34420038e+00, 1.95099160e-01, 5.13428208e-01,\n",
       "       1.41047822e-01, 3.38338043e+00, 1.94348494e-02, 1.94016264e+00,\n",
       "       4.87412980e+00, 4.10649355e-01, 2.30888562e-01, 4.85886688e+00,\n",
       "       1.86829857e+00, 5.46523666e+00, 1.16618424e+00, 1.20527432e+00,\n",
       "       8.71993148e-01, 2.86431093e+00, 3.20476004e-01, 2.80140912e-01,\n",
       "       6.10880839e+00, 4.25509879e-01, 4.55246581e-02, 1.72390462e-02,\n",
       "       5.11424604e-01, 1.22420520e+00, 4.57881786e-01, 4.98394790e-01,\n",
       "       1.57883608e+00, 1.04334093e-02, 3.68354355e-01, 5.22722712e-01,\n",
       "       5.86030564e-01, 6.01922445e-01, 9.71131129e-01, 6.63873888e-01,\n",
       "       1.59121797e+00, 3.63417986e-01, 1.47208365e+00, 2.98231385e+00,\n",
       "       4.37551869e+00, 5.34502860e+00, 6.18132577e+00, 4.66719096e+00,\n",
       "       6.38512154e-02, 2.91094305e+00, 3.14359631e-02, 1.10750135e+00,\n",
       "       7.35977716e-01, 3.50621305e+00, 9.43278454e-01, 5.10027599e+00,\n",
       "       3.79666544e-01, 2.23976405e+00, 2.73903300e+00, 1.14071686e+00,\n",
       "       6.98588269e-01, 4.32326975e+00, 3.89115697e+00, 4.99189582e-02,\n",
       "       1.59932974e+00, 2.44219825e-01, 1.45782763e+00, 2.68780345e+00,\n",
       "       2.25897275e-01, 2.96545868e+00, 3.15080436e+00, 5.80182348e+00,\n",
       "       1.55134353e-01, 3.68544460e-01, 4.36032999e+00, 1.01785287e+00,\n",
       "       1.73983897e+00, 3.32970833e-01, 3.36204910e+00, 2.35564659e-01,\n",
       "       5.40367299e+00, 1.27301818e+00, 1.17338472e+00, 2.03615986e+00,\n",
       "       1.64567164e+00, 3.00679589e+00, 1.12114272e+00, 8.10528816e-01])"
      ]
     },
     "execution_count": 107,
     "metadata": {},
     "output_type": "execute_result"
    }
   ],
   "source": [
    "st.t.interval(0.95, 99, loc=X.mean(), scale=st.sem(X))\n",
    "X"
   ]
  },
  {
   "cell_type": "markdown",
   "id": "660c8e4c-2335-4867-bea5-14f75aeee3bd",
   "metadata": {},
   "source": [
    "### Bootstrap"
   ]
  },
  {
   "cell_type": "markdown",
   "id": "d6a951af-d48f-4602-a828-1622ff8171a4",
   "metadata": {},
   "source": [
    "Как построить доверительный интервал, если распределение оценки неизвестно?"
   ]
  },
  {
   "cell_type": "code",
   "execution_count": 108,
   "id": "52977496-037f-4284-aa4d-f4ade0adf1a2",
   "metadata": {},
   "outputs": [],
   "source": [
    "X = np.random.exponential(1/2, 10000)"
   ]
  },
  {
   "cell_type": "code",
   "execution_count": 109,
   "id": "5796ff8e-a31c-4197-91e2-c0f9f017c8d4",
   "metadata": {},
   "outputs": [
    {
     "name": "stdout",
     "output_type": "stream",
     "text": [
      "0.3392984798846462 0.35888507011068577\n"
     ]
    }
   ],
   "source": [
    "estimates = []\n",
    "for i in range(1000):\n",
    "    sample = np.random.choice(X, len(X))\n",
    "    estimates.append(np.median(sample))\n",
    "\n",
    "z005 = st.norm(0,1).ppf(1-0.05/2)\n",
    "print(np.mean(estimates) - z005 * np.std(estimates, ddof=1), np.mean(estimates) + z005 * np.std(estimates, ddof=1))"
   ]
  },
  {
   "cell_type": "code",
   "execution_count": 110,
   "id": "83458104-4ebc-4e96-ad51-a3ade874d2a1",
   "metadata": {},
   "outputs": [
    {
     "data": {
      "text/plain": [
       "0.3491930337657927"
      ]
     },
     "execution_count": 110,
     "metadata": {},
     "output_type": "execute_result"
    }
   ],
   "source": [
    "np.median(X)"
   ]
  },
  {
   "cell_type": "code",
   "execution_count": 111,
   "id": "0f6da090-e45e-48de-942f-c7d6a3f7a808",
   "metadata": {},
   "outputs": [
    {
     "data": {
      "text/plain": [
       "0.34657359027997264"
      ]
     },
     "execution_count": 111,
     "metadata": {},
     "output_type": "execute_result"
    }
   ],
   "source": [
    "st.expon(scale=1/2).median()"
   ]
  },
  {
   "cell_type": "markdown",
   "id": "cbbf9f76-ff41-4057-a649-a9c482ece001",
   "metadata": {},
   "source": [
    "#### Код для воспроизводимого параллельного бутстрепа"
   ]
  },
  {
   "cell_type": "code",
   "execution_count": 112,
   "id": "f92fe630-0238-4950-a97a-db42fdadef58",
   "metadata": {},
   "outputs": [],
   "source": [
    "from joblib import Parallel, delayed\n",
    "\n",
    "def bootstrap(func, X, estimator, iterations, random_state=177013, n_jobs=12):\n",
    "    state = np.random.RandomState(random_state)\n",
    "    estimates = Parallel(n_jobs)(delayed(func)(X, estimator, state) for i in range(iterations))\n",
    "    result = st.norm(estimator(estimates), np.std(estimates, ddof=1)).interval(0.95)\n",
    "    return result\n",
    "\n",
    "\n",
    "def boot_classic(X, estimator, state):\n",
    "    sample = state.choice(X, len(X))\n",
    "    return estimator(sample)\n",
    "\n",
    "def boot_bayes(X, estimator, state):\n",
    "    w = np.random.dirichlet(np.ones(len(X)) * 4, 1)[0]\n",
    "    sample = np.random.choice(X, len(X), p=w)\n",
    "    return estimator(sample)"
   ]
  },
  {
   "cell_type": "code",
   "execution_count": 113,
   "id": "c87ec59c-b11e-4955-a6ae-06d4d6e2df3d",
   "metadata": {},
   "outputs": [],
   "source": [
    "X = np.random.exponential(1/2, 10000)"
   ]
  },
  {
   "cell_type": "code",
   "execution_count": 114,
   "id": "78f5c954-5178-4f13-97e9-630a5ee431e5",
   "metadata": {},
   "outputs": [
    {
     "data": {
      "text/plain": [
       "(0.35568220802167955, 0.3702874781709598)"
      ]
     },
     "execution_count": 114,
     "metadata": {},
     "output_type": "execute_result"
    }
   ],
   "source": [
    "bootstrap(boot_classic, X, np.median, 1000)"
   ]
  },
  {
   "cell_type": "code",
   "execution_count": 115,
   "id": "465bcf93-1c68-4c21-b249-1255aef0e6f4",
   "metadata": {},
   "outputs": [
    {
     "data": {
      "text/plain": [
       "(0.349782890888776, 0.3709974478214787)"
      ]
     },
     "execution_count": 115,
     "metadata": {},
     "output_type": "execute_result"
    }
   ],
   "source": [
    "bootstrap(boot_bayes, X, np.median, 1000)"
   ]
  },
  {
   "cell_type": "code",
   "execution_count": 116,
   "id": "08659537-94f8-4f73-8e23-b91da53767c3",
   "metadata": {},
   "outputs": [],
   "source": [
    "b = st.bootstrap((X,), np.median, confidence_level=0.95, n_resamples=1000, random_state=177013)"
   ]
  },
  {
   "cell_type": "code",
   "execution_count": 117,
   "id": "5efb24c7-f3da-459e-95ce-ca12b81033e8",
   "metadata": {},
   "outputs": [
    {
     "data": {
      "text/plain": [
       "ConfidenceInterval(low=0.34992289923400166, high=0.36824967770097516)"
      ]
     },
     "execution_count": 117,
     "metadata": {},
     "output_type": "execute_result"
    }
   ],
   "source": [
    "b.confidence_interval"
   ]
  },
  {
   "cell_type": "markdown",
   "id": "06521e91-4468-48ed-b8a3-cb4e48ba807d",
   "metadata": {},
   "source": [
    "## Проверка статистических гипотез"
   ]
  },
  {
   "cell_type": "markdown",
   "id": "54fc8434-8e92-4775-96e5-57d953ca4f55",
   "metadata": {},
   "source": [
    "Как формулируются гипотезы?\n",
    "\n",
    "Гипотеза - то, что можно проверить с помощью наблюдений.\n",
    "\n",
    "Прежде всего, нужна **нулевая гипотеза ($H_0$)** - гипотеза об отсутствии эффекта. Математически она описывается как равенство. *Отвергая* нулевую гипотезу, мы подтвердим эффект.\n",
    "\n",
    "Например: \"Средние двух распределений равны\", \"параметр распределения равен 0.5\".\n",
    "\n",
    "**Альтернативная гипотеза ($H_1$)** - гипотеза о наличии эффекта, о неравенстве. Она может быть как односторонней (\"параметр больше 0.5\"), так и двусторонней (\"средние выборок не равны\").\n",
    "\n",
    "После формулировки гипотез следует определиться с **уровнем значимости $\\alpha$**. Он соответствует наибольшей вероятности **ошибки первого рода** (ложноположительного срабатывания, обнаружения эффекта там, где его нет), другими словами, того, что мы отвергнем верную нулевую гипотезу.\n",
    "\n",
    "Третьим этапом определяется **статистический критерий** - какая-то статистика выборки и соответствующие ей *критические области*. При подадании значения статистики в эти области мы отвергаем нулевую гипотезу."
   ]
  },
  {
   "cell_type": "markdown",
   "id": "9b679c78-0b70-4abe-bcfc-e69d0d793454",
   "metadata": {},
   "source": [
    "### Z-тест для среднего"
   ]
  },
  {
   "cell_type": "markdown",
   "id": "ed6dff32-4cab-40ee-8746-309ac43d46fc",
   "metadata": {},
   "source": [
    "Положим, есть некое распределение, для которого мы знаем дисперсию $\\sigma^2$, но среднее $\\mu$ можем только оценить.\n",
    "\n",
    "Определим гипотезы так:\n",
    "\n",
    "$$\n",
    "H_0: \\mu = \\mu_0 \\\\\n",
    "H_1: \\mu \\neq \\mu_0\n",
    "$$"
   ]
  },
  {
   "cell_type": "markdown",
   "id": "ca188494-0875-4a34-a3ba-7d81526ff4be",
   "metadata": {},
   "source": [
    "Тогда чем ближе $\\mu_0$ к истине, тем меньше $\\bar X - \\mu_0$, а мы помним, что\n",
    "\n",
    "$$\n",
    "\\sqrt{n}\\frac{\\bar X - \\mu_0}{\\sigma}\n",
    "$$\n",
    "\n",
    "стремится распределиться нормально."
   ]
  },
  {
   "cell_type": "markdown",
   "id": "d8126329-ef6d-4157-8b03-80b8396c4781",
   "metadata": {},
   "source": [
    "То есть критические значения соответствуют $PPF_Z(1 - \\alpha)$, что для двустороннего теста выглядит так:\n",
    "\n",
    "$$\n",
    "\\left|\\sqrt{n}\\frac{\\bar X - \\mu_0}{\\sigma}\\right| \\geqslant z_{\\alpha/2}\n",
    "$$\n",
    "\n",
    "В этих областях мы отвергаем нулевую гипотезу.\n",
    "\n",
    "Как видим, принцип очень похож на тот, что мы использовали для построения доверительного интервала. Действительно, отвергнуть нулевую гипотезу - это то же самое, что сказать \"$\\mu_0$ не попадает в соответствующий доверительный интервал для $\\mu$\". \n",
    "\n",
    "Аналогично для одностороннего теста:\n",
    "\n",
    "$$\n",
    "H_1: \\mu > \\mu_0 : \\text{отвергаем }H_0\\text{, если статистика}\\geqslant z_{\\alpha}\\\\\n",
    "H_1: \\mu < \\mu_0 : \\text{отвергаем }H_0\\text{, если статистика}\\leqslant -z_{\\alpha}\n",
    "$$"
   ]
  },
  {
   "cell_type": "markdown",
   "id": "80141384-ce47-4abf-95e6-faf47ce5716c",
   "metadata": {},
   "source": [
    "### T-тест для среднего"
   ]
  },
  {
   "cell_type": "markdown",
   "id": "6f0d1a3c-da75-4339-9c73-c55989817748",
   "metadata": {},
   "source": [
    "Все то же самое, если мы не знаем дисперсию: используем распределение Стьюдента.\n",
    "\n",
    "Критерий:\n",
    "$$\n",
    "\\sqrt{n}\\frac{\\bar X - \\mu_0}{S}\n",
    "$$\n",
    "\n",
    "Критические значения^ $\\pm t(n-1)_{\\alpha/2}\\text{ или}\\pm t(n-1)_{\\alpha}$ для односторонних тестов."
   ]
  },
  {
   "cell_type": "markdown",
   "id": "3e36c19b-0672-4bcc-a4fd-f8af575f82c8",
   "metadata": {},
   "source": [
    "### P-value"
   ]
  },
  {
   "cell_type": "markdown",
   "id": "3b480d31-a671-48f8-b63d-3548d06df67d",
   "metadata": {},
   "source": [
    "На практике проще проверять не вхождение в интервал, а *вероятность получить данное или более экстремальное значение критерия, если нулевая гипотеза верна*. Если оно меньше порога $\\alpha$, то нулевая гипотеза отвергается."
   ]
  },
  {
   "cell_type": "code",
   "execution_count": 118,
   "id": "b2b80694-95df-4870-b77a-79c2ff118b0a",
   "metadata": {},
   "outputs": [],
   "source": [
    "X = np.random.poisson(2, 100)\n",
    "\n",
    "alpha = 0.05"
   ]
  },
  {
   "cell_type": "code",
   "execution_count": 119,
   "id": "e8b6fcc0-c584-4178-8d5d-4da445954887",
   "metadata": {
    "tags": []
   },
   "outputs": [
    {
     "name": "stdout",
     "output_type": "stream",
     "text": [
      "P-value 1.068918678076985e-09\n",
      "Отвергаем нулевую гипотезу.\n"
     ]
    }
   ],
   "source": [
    "criterion_value, p_value = st.ttest_1samp(X, 1)\n",
    "\n",
    "print(f'P-value {p_value}')\n",
    "if p_value < alpha:\n",
    "    print('Отвергаем нулевую гипотезу.')\n",
    "else:\n",
    "    print('Не удается опровергнуть нулевую гипотезу.')"
   ]
  },
  {
   "cell_type": "markdown",
   "id": "04c40080-6e03-4632-b853-c1cfff290b95",
   "metadata": {},
   "source": [
    "**Для одностороннего теста достаточно разделить P-value на 2, а больше/меньше видно по выборочным средним.**"
   ]
  },
  {
   "cell_type": "markdown",
   "id": "f1f3a2ac-a86f-4952-ac79-01e84e80e6f6",
   "metadata": {},
   "source": [
    "### A/B тестирование"
   ]
  },
  {
   "cell_type": "markdown",
   "id": "7519fae5-66a1-47e5-be84-6a68f9583ccf",
   "metadata": {},
   "source": [
    "#### Z-критерий для двух выборок:\n",
    "\n",
    "$$\n",
    "\\large{\\frac{\\bar X - \\bar Y}{\\sqrt{\\frac{\\sigma^2_x}{n_x}+\\frac{\\sigma^2_y}{n_y}}}}\n",
    "$$"
   ]
  },
  {
   "cell_type": "markdown",
   "id": "28214435-9ac9-4890-8b5a-7d21bbfab385",
   "metadata": {},
   "source": [
    "#### Т-критерий для двух выборок:\n",
    "\n",
    "$$\n",
    "\\large{\\frac{\\bar X - \\bar Y}{\\sqrt{\\frac{s^2}{n_x}+\\frac{s^2}{n_y}}}}\n",
    "$$\n",
    "\n",
    "Где $s$ считается по выборочной дисперсии:\n",
    "\n",
    "$$\n",
    "s = \\sqrt{\\frac{(n_x-1)s^2_x + (n_y-1)s^2_y}{n_x+n_y-2}}\n",
    "$$\n",
    "\n",
    "А число степеней свободы будет $n_x+n_y-2$."
   ]
  },
  {
   "cell_type": "markdown",
   "id": "4a980953-494a-413d-b5ac-5c7e761ded13",
   "metadata": {},
   "source": [
    "#### Т-тест Уэлча\n",
    "Если у распределений разные дисперсии, то формула упрощается:\n",
    "\n",
    "$$\n",
    "\\large{\\frac{\\bar X - \\bar Y}{\\sqrt{\\frac{s^2_x}{n_x}+\\frac{s^2_y}{n_y}}}}\n",
    "$$\n",
    "\n",
    "А число степеней свободы в простейшем случае можно брать как $min{(n_x, n_y)} -1$ (но есть и более сложные методы).\n",
    "\n",
    "Этот тест рекомендуется использовать по умолчанию."
   ]
  },
  {
   "cell_type": "code",
   "execution_count": 120,
   "id": "57e160c9-7c73-447a-988c-93b9d4ca44b8",
   "metadata": {},
   "outputs": [],
   "source": [
    "X = np.random.poisson(2, 100)\n",
    "Y = np.random.poisson(2.5, 100)"
   ]
  },
  {
   "cell_type": "code",
   "execution_count": 121,
   "id": "cc05d27c-f800-45da-99ed-ea037424053f",
   "metadata": {},
   "outputs": [
    {
     "name": "stdout",
     "output_type": "stream",
     "text": [
      "P-value 0.0005068109050444332\n",
      "Отвергаем нулевую гипотезу.\n"
     ]
    }
   ],
   "source": [
    "criterion_value, p_value = st.ttest_ind(X, Y, equal_var=False)\n",
    "\n",
    "print(f'P-value {p_value}')\n",
    "if p_value < alpha:\n",
    "    print('Отвергаем нулевую гипотезу.')\n",
    "else:\n",
    "    print('Не удается опровергнуть нулевую гипотезу.')"
   ]
  },
  {
   "cell_type": "markdown",
   "id": "208126cd-bd4b-4a4c-83f4-5363f6cb99da",
   "metadata": {},
   "source": [
    "### Тест для зависимых выборок"
   ]
  },
  {
   "cell_type": "code",
   "execution_count": 122,
   "id": "bb84ce0d-afde-49cb-8fbe-caf3671077cb",
   "metadata": {},
   "outputs": [],
   "source": [
    "before = np.random.poisson(2, 100)\n",
    "after = np.random.poisson(2.5, 100)"
   ]
  },
  {
   "cell_type": "code",
   "execution_count": 123,
   "id": "ab0accff-d5aa-4c0c-8f41-74ac7c65df51",
   "metadata": {},
   "outputs": [
    {
     "name": "stdout",
     "output_type": "stream",
     "text": [
      "P-value 0.002117781795595327\n",
      "Отвергаем нулевую гипотезу.\n"
     ]
    }
   ],
   "source": [
    "criterion_value, p_value = st.ttest_rel(before, after)\n",
    "\n",
    "print(f'P-value {p_value}')\n",
    "if p_value < alpha:\n",
    "    print('Отвергаем нулевую гипотезу.')\n",
    "else:\n",
    "    print('Не удается опровергнуть нулевую гипотезу.')"
   ]
  },
  {
   "cell_type": "markdown",
   "id": "54becc32-0410-4ccc-9a29-65edd1f6517e",
   "metadata": {},
   "source": [
    "### Допущения и свойства параметрических тестов"
   ]
  },
  {
   "cell_type": "markdown",
   "id": "50ba0f81-536a-41f8-bbd8-3a4751bf1f50",
   "metadata": {},
   "source": [
    "- Z-тест и Т-тест опираются на ЦПТ. Выборка должна быть достаточно большой (или маленькой, но нормально распределенной).\n",
    "- Как следствие, выбросы также сильно влияют на надежность тестов.\n",
    "\n",
    "**Ошибка первого рода**, как мы уже говорили, - вероятность отвергнуть верную нулевую гипотезу. **Ошибка второго рода**, соответственно, - когда нам не удалось отвергнуть неверную нулевую гипотезу (то есть мы не обнаружили эффект там, где он есть). Верхний предел на них обозначается $\\alpha$ и $\\beta$.\n",
    "\n",
    "**Статистической мощностью теста** называется вероятность обнаружить эффект, когда он присутствует ($1-\\beta$).\n",
    "\n",
    "**Минимальный размер эффекта** для А/B теста - это минимальное различие между двумя статистиками, которое тест можзет обнаружить. От него зависит минимальный нужный размер выборки.\n",
    "\n",
    "Для одностороннего Т-теста это:\n",
    "\n",
    "$$\n",
    "n \\geqslant \\left(\\frac{(z_a+z_b)^2}{MDE}(s^2_x+s^2_y)\\right)\n",
    "$$\n",
    "\n",
    "Для двустороннего:\n",
    "\n",
    "$$\n",
    "n \\geqslant \\left(\\frac{(z_{a/2}+z_b)^2}{MDE}(s^2_x+s^2_y)\\right)\n",
    "$$"
   ]
  },
  {
   "cell_type": "markdown",
   "id": "8deb9bd4-7ccf-4122-820b-9e55d1e3aeb8",
   "metadata": {},
   "source": [
    "### Непараметрические тесты"
   ]
  },
  {
   "cell_type": "markdown",
   "id": "af6edbc4-69d5-4b2d-b488-a99b6e7dcc06",
   "metadata": {},
   "source": [
    "Непараметрические тесты стоит применять, если:\n",
    "\n",
    "- выборка мала;\n",
    "- нет возможности удалить выбросы и/или медианные значения важнее средних.\n",
    "\n",
    "Непараметрические тесты сортируют и ранжируют значения после какой-то обработки. Эти ранги и используются для подсчета критерия. Они используют лишь значения выборок и их количество. Для них не важны параметры распределения. "
   ]
  },
  {
   "cell_type": "markdown",
   "id": "f2ac1756-3ab0-401d-8afd-8730081f4967",
   "metadata": {},
   "source": [
    "#### U-тест Манна-Уитни"
   ]
  },
  {
   "cell_type": "markdown",
   "id": "28a485eb-f3e2-47c9-b1d1-0d158755f3bf",
   "metadata": {},
   "source": [
    "Его можно рассматривать как непараметрический аналог Т-теста для независимых выборок. Он проверяет гипотезу о равенстве распределений."
   ]
  },
  {
   "cell_type": "code",
   "execution_count": 124,
   "id": "610ebb1b-250e-4963-bc03-4387215c57ff",
   "metadata": {},
   "outputs": [
    {
     "name": "stdout",
     "output_type": "stream",
     "text": [
      "P-value 0.00042863295086081177\n",
      "Отвергаем нулевую гипотезу.\n"
     ]
    }
   ],
   "source": [
    "criterion_value, p_value = st.mannwhitneyu(X, Y)\n",
    "\n",
    "print(f'P-value {p_value}')\n",
    "if p_value < alpha:\n",
    "    print('Отвергаем нулевую гипотезу.')\n",
    "else:\n",
    "    print('Не удается опровергнуть нулевую гипотезу.')"
   ]
  },
  {
   "cell_type": "markdown",
   "id": "c65fd70c-13cc-4868-8046-d40b348384ab",
   "metadata": {},
   "source": [
    "#### W-тест Уилкоксона"
   ]
  },
  {
   "cell_type": "markdown",
   "id": "499239b0-8e5b-4297-9fbb-0b16740cc0a8",
   "metadata": {},
   "source": [
    "Его можно рассматривать как непараметрический аналог Т-теста для зависимых выборок. Он проверяет гипотезу о симметричности распределения разности относительно нуля."
   ]
  },
  {
   "cell_type": "code",
   "execution_count": 125,
   "id": "73aaa859-17ae-4a7f-aa10-a4351eee84ab",
   "metadata": {},
   "outputs": [
    {
     "name": "stdout",
     "output_type": "stream",
     "text": [
      "P-value 0.0040201770777687305\n",
      "Отвергаем нулевую гипотезу.\n"
     ]
    }
   ],
   "source": [
    "criterion_value, p_value = st.wilcoxon(before, after)\n",
    "\n",
    "print(f'P-value {p_value}')\n",
    "if p_value < alpha:\n",
    "    print('Отвергаем нулевую гипотезу.')\n",
    "else:\n",
    "    print('Не удается опровергнуть нулевую гипотезу.')"
   ]
  },
  {
   "cell_type": "markdown",
   "id": "cf5a04c0-7286-4ee6-8d3c-8ce5e09a5dcf",
   "metadata": {},
   "source": [
    "#### Тест Муда на равенство медиан"
   ]
  },
  {
   "cell_type": "code",
   "execution_count": 126,
   "id": "b5ea2380-0951-43e0-a35d-e840fd91a869",
   "metadata": {},
   "outputs": [],
   "source": [
    "X = np.random.poisson(1, 100)\n",
    "Y = np.random.poisson(1.4, 100)"
   ]
  },
  {
   "cell_type": "code",
   "execution_count": 127,
   "id": "fa392895-df09-481b-a662-0541ce6187b3",
   "metadata": {},
   "outputs": [
    {
     "name": "stdout",
     "output_type": "stream",
     "text": [
      "P-value 0.10513499407174028\n",
      "Не удается опровергнуть нулевую гипотезу.\n"
     ]
    }
   ],
   "source": [
    "criterion_value, p_value, grand_median, _ = st.median_test(X, Y)\n",
    "\n",
    "print(f'P-value {p_value}')\n",
    "if p_value < alpha:\n",
    "    print('Отвергаем нулевую гипотезу.')\n",
    "else:\n",
    "    print('Не удается опровергнуть нулевую гипотезу.')"
   ]
  },
  {
   "cell_type": "markdown",
   "id": "a18daa8e-f02f-463e-ac7a-8683d2078bad",
   "metadata": {},
   "source": [
    "#### Тесты на нормальность"
   ]
  },
  {
   "cell_type": "code",
   "execution_count": 128,
   "id": "f1db0a43-192f-4bf5-a809-b56394498d0c",
   "metadata": {},
   "outputs": [],
   "source": [
    "X = np.random.normal(5, 10, 100) + np.random.uniform(-1, 1, 100)"
   ]
  },
  {
   "cell_type": "code",
   "execution_count": 129,
   "id": "9f46859d-92ba-48b4-840d-dffa8c151897",
   "metadata": {},
   "outputs": [
    {
     "data": {
      "image/png": "[encoded data removed]",
      "text/plain": [
       "<Figure size 640x480 with 1 Axes>"
      ]
     },
     "metadata": {},
     "output_type": "display_data"
    }
   ],
   "source": [
    "plt.hist(X);"
   ]
  },
  {
   "cell_type": "markdown",
   "id": "45729af2-9c02-4313-93f0-db42d1ff94dd",
   "metadata": {},
   "source": [
    "Тест Шапиро-Уилка (неплохо работает с малыми выборками):"
   ]
  },
  {
   "cell_type": "code",
   "execution_count": 130,
   "id": "f4460347-550a-4e38-a72f-98e301c6abea",
   "metadata": {},
   "outputs": [
    {
     "name": "stdout",
     "output_type": "stream",
     "text": [
      "P-value 0.6320639252662659\n",
      "Не удается опровергнуть нулевую гипотезу.\n"
     ]
    }
   ],
   "source": [
    "criterion_value, p_value, = st.shapiro(X)\n",
    "\n",
    "print(f'P-value {p_value}')\n",
    "if p_value < alpha:\n",
    "    print('Отвергаем нулевую гипотезу.')\n",
    "else:\n",
    "    print('Не удается опровергнуть нулевую гипотезу.')"
   ]
  },
  {
   "cell_type": "markdown",
   "id": "6e6b4c0a-8327-4429-a092-6a5429f697aa",
   "metadata": {},
   "source": [
    "Тест Андерсона-Дарлинга позволяет протестировать разные формы распределений по критическим значениям (образает особое внимание на хвосты):"
   ]
  },
  {
   "cell_type": "code",
   "execution_count": 131,
   "id": "ed2bbd22-66d2-403d-bb43-23c2dca4c8c0",
   "metadata": {},
   "outputs": [
    {
     "name": "stdout",
     "output_type": "stream",
     "text": [
      "Результат: 0.2554206601971032\n",
      "Критические значения [0.555 0.632 0.759 0.885 1.053]\n",
      "Уровни достоверности, % [15.  10.   5.   2.5  1. ]\n"
     ]
    }
   ],
   "source": [
    "criterion_value, critical_value, levels = st.anderson(X, dist='norm')\n",
    "\n",
    "print(f'Результат: {criterion_value}')\n",
    "print(f'Критические значения {critical_value}')\n",
    "print(f'Уровни достоверности, % {levels}')"
   ]
  },
  {
   "cell_type": "markdown",
   "id": "34cb946e-bd3f-4ec5-89cc-a29de404cb0b",
   "metadata": {},
   "source": [
    "Тест Колмогорова-Смирнова тестирует на качество попадания в любое распределение по оценке CDF (чувствителен и к среднему, и к дисперсии):"
   ]
  },
  {
   "cell_type": "code",
   "execution_count": 132,
   "id": "cd3a56ce-0300-4bfd-b7b6-ef01a776c222",
   "metadata": {},
   "outputs": [
    {
     "name": "stdout",
     "output_type": "stream",
     "text": [
      "P-value 0.8588953790268089\n",
      "Не удается опровергнуть нулевую гипотезу.\n"
     ]
    }
   ],
   "source": [
    "criterion_value, p_value = st.kstest(X, st.norm(5, 10).cdf)\n",
    "\n",
    "print(f'P-value {p_value}')\n",
    "if p_value < alpha:\n",
    "    print('Отвергаем нулевую гипотезу.')\n",
    "else:\n",
    "    print('Не удается опровергнуть нулевую гипотезу.')"
   ]
  },
  {
   "cell_type": "markdown",
   "id": "a6c1a5b1-ccc7-47f3-8f64-6fa9467614f8",
   "metadata": {},
   "source": [
    "### Другие полезные тесты"
   ]
  },
  {
   "cell_type": "markdown",
   "id": "35f4d7e6-c2f7-4a43-8137-258c43656494",
   "metadata": {},
   "source": [
    "#### Тесты на равенство дисперсий"
   ]
  },
  {
   "cell_type": "code",
   "execution_count": 133,
   "id": "4de1a929-4eb0-4c42-b9d5-1edc87cc1c69",
   "metadata": {},
   "outputs": [],
   "source": [
    "X = np.random.normal(5, 10, 100) + np.random.uniform(-10, 10, 100)\n",
    "Y = np.random.normal(5, 10, 100)"
   ]
  },
  {
   "cell_type": "code",
   "execution_count": 134,
   "id": "fc822960-0b39-4eef-905b-173d838d5947",
   "metadata": {},
   "outputs": [
    {
     "data": {
      "image/png": "[encoded data removed]",
      "text/plain": [
       "<Figure size 640x480 with 1 Axes>"
      ]
     },
     "metadata": {},
     "output_type": "display_data"
    }
   ],
   "source": [
    "plt.hist(X);\n",
    "plt.hist(Y);"
   ]
  },
  {
   "cell_type": "code",
   "execution_count": 135,
   "id": "3e23d5a5-123e-49b3-8bc4-bf65f68abef6",
   "metadata": {},
   "outputs": [
    {
     "name": "stdout",
     "output_type": "stream",
     "text": [
      "P-value 0.13742774616252035\n",
      "Не удается опровергнуть нулевую гипотезу.\n"
     ]
    }
   ],
   "source": [
    "criterion_value, p_value = st.bartlett(X, Y)\n",
    "\n",
    "print(f'P-value {p_value}')\n",
    "if p_value < alpha:\n",
    "    print('Отвергаем нулевую гипотезу.')\n",
    "else:\n",
    "    print('Не удается опровергнуть нулевую гипотезу.')"
   ]
  },
  {
   "cell_type": "code",
   "execution_count": 136,
   "id": "9fc385de-27d1-4622-8135-aba9f6d7d71f",
   "metadata": {},
   "outputs": [
    {
     "name": "stdout",
     "output_type": "stream",
     "text": [
      "P-value 0.09633414720632735\n",
      "Не удается опровергнуть нулевую гипотезу.\n"
     ]
    }
   ],
   "source": [
    "criterion_value, p_value = st.levene(X, Y)\n",
    "\n",
    "print(f'P-value {p_value}')\n",
    "if p_value < alpha:\n",
    "    print('Отвергаем нулевую гипотезу.')\n",
    "else:\n",
    "    print('Не удается опровергнуть нулевую гипотезу.')"
   ]
  },
  {
   "cell_type": "markdown",
   "id": "f675985f-2ac9-4cfb-a893-04935e8006a9",
   "metadata": {},
   "source": [
    "# Домашнее задание"
   ]
  },
  {
   "cell_type": "markdown",
   "id": "e677e16d-1fd8-4c0e-ac77-1117ceba81f7",
   "metadata": {},
   "source": [
    "Вернемся к датасету клиентов банка."
   ]
  },
  {
   "cell_type": "code",
   "execution_count": 137,
   "id": "dc6e2ac1-2437-45e5-a9bc-5f36d751e0a5",
   "metadata": {},
   "outputs": [],
   "source": [
    "import pandas as pd"
   ]
  },
  {
   "cell_type": "code",
   "execution_count": 138,
   "id": "f585bab1-bbca-4498-bf80-1e01cce887ae",
   "metadata": {},
   "outputs": [
    {
     "data": {
      "text/html": [
       "<div>\n",
       "<style scoped>\n",
       "    .dataframe tbody tr th:only-of-type {\n",
       "        vertical-align: middle;\n",
       "    }\n",
       "\n",
       "    .dataframe tbody tr th {\n",
       "        vertical-align: top;\n",
       "    }\n",
       "\n",
       "    .dataframe thead th {\n",
       "        text-align: right;\n",
       "    }\n",
       "</style>\n",
       "<table border=\"1\" class=\"dataframe\">\n",
       "  <thead>\n",
       "    <tr style=\"text-align: right;\">\n",
       "      <th></th>\n",
       "      <th>RowNumber</th>\n",
       "      <th>CustomerId</th>\n",
       "      <th>Surname</th>\n",
       "      <th>CreditScore</th>\n",
       "      <th>Geography</th>\n",
       "      <th>Gender</th>\n",
       "      <th>Age</th>\n",
       "      <th>Tenure</th>\n",
       "      <th>Balance</th>\n",
       "      <th>NumOfProducts</th>\n",
       "      <th>HasCrCard</th>\n",
       "      <th>IsActiveMember</th>\n",
       "      <th>EstimatedSalary</th>\n",
       "      <th>Exited</th>\n",
       "    </tr>\n",
       "  </thead>\n",
       "  <tbody>\n",
       "    <tr>\n",
       "      <th>0</th>\n",
       "      <td>1</td>\n",
       "      <td>15634602</td>\n",
       "      <td>Hargrave</td>\n",
       "      <td>619</td>\n",
       "      <td>France</td>\n",
       "      <td>Female</td>\n",
       "      <td>42</td>\n",
       "      <td>2</td>\n",
       "      <td>0.00</td>\n",
       "      <td>1</td>\n",
       "      <td>1</td>\n",
       "      <td>1</td>\n",
       "      <td>101348.88</td>\n",
       "      <td>1</td>\n",
       "    </tr>\n",
       "    <tr>\n",
       "      <th>1</th>\n",
       "      <td>2</td>\n",
       "      <td>15647311</td>\n",
       "      <td>Hill</td>\n",
       "      <td>608</td>\n",
       "      <td>Spain</td>\n",
       "      <td>Female</td>\n",
       "      <td>41</td>\n",
       "      <td>1</td>\n",
       "      <td>83807.86</td>\n",
       "      <td>1</td>\n",
       "      <td>0</td>\n",
       "      <td>1</td>\n",
       "      <td>112542.58</td>\n",
       "      <td>0</td>\n",
       "    </tr>\n",
       "    <tr>\n",
       "      <th>2</th>\n",
       "      <td>3</td>\n",
       "      <td>15619304</td>\n",
       "      <td>Onio</td>\n",
       "      <td>502</td>\n",
       "      <td>France</td>\n",
       "      <td>Female</td>\n",
       "      <td>42</td>\n",
       "      <td>8</td>\n",
       "      <td>159660.80</td>\n",
       "      <td>3</td>\n",
       "      <td>1</td>\n",
       "      <td>0</td>\n",
       "      <td>113931.57</td>\n",
       "      <td>1</td>\n",
       "    </tr>\n",
       "    <tr>\n",
       "      <th>3</th>\n",
       "      <td>4</td>\n",
       "      <td>15701354</td>\n",
       "      <td>Boni</td>\n",
       "      <td>699</td>\n",
       "      <td>France</td>\n",
       "      <td>Female</td>\n",
       "      <td>39</td>\n",
       "      <td>1</td>\n",
       "      <td>0.00</td>\n",
       "      <td>2</td>\n",
       "      <td>0</td>\n",
       "      <td>0</td>\n",
       "      <td>93826.63</td>\n",
       "      <td>0</td>\n",
       "    </tr>\n",
       "    <tr>\n",
       "      <th>4</th>\n",
       "      <td>5</td>\n",
       "      <td>15737888</td>\n",
       "      <td>Mitchell</td>\n",
       "      <td>850</td>\n",
       "      <td>Spain</td>\n",
       "      <td>Female</td>\n",
       "      <td>43</td>\n",
       "      <td>2</td>\n",
       "      <td>125510.82</td>\n",
       "      <td>1</td>\n",
       "      <td>1</td>\n",
       "      <td>1</td>\n",
       "      <td>79084.10</td>\n",
       "      <td>0</td>\n",
       "    </tr>\n",
       "  </tbody>\n",
       "</table>\n",
       "</div>"
      ],
      "text/plain": [
       "   RowNumber  CustomerId   Surname  CreditScore Geography  Gender  Age  \\\n",
       "0          1    15634602  Hargrave          619    France  Female   42   \n",
       "1          2    15647311      Hill          608     Spain  Female   41   \n",
       "2          3    15619304      Onio          502    France  Female   42   \n",
       "3          4    15701354      Boni          699    France  Female   39   \n",
       "4          5    15737888  Mitchell          850     Spain  Female   43   \n",
       "\n",
       "   Tenure    Balance  NumOfProducts  HasCrCard  IsActiveMember  \\\n",
       "0       2       0.00              1          1               1   \n",
       "1       1   83807.86              1          0               1   \n",
       "2       8  159660.80              3          1               0   \n",
       "3       1       0.00              2          0               0   \n",
       "4       2  125510.82              1          1               1   \n",
       "\n",
       "   EstimatedSalary  Exited  \n",
       "0        101348.88       1  \n",
       "1        112542.58       0  \n",
       "2        113931.57       1  \n",
       "3         93826.63       0  \n",
       "4         79084.10       0  "
      ]
     },
     "execution_count": 138,
     "metadata": {},
     "output_type": "execute_result"
    }
   ],
   "source": [
    "df = pd.read_csv(r'C:\\Users\\UserOfPC\\Documents\\Бруноям окт_2023\\Churn_Modelling.csv')\n",
    "df.head()"
   ]
  },
  {
   "cell_type": "code",
   "execution_count": 139,
   "id": "b655e3dd-949a-49ae-be6e-5d1b59357936",
   "metadata": {},
   "outputs": [
    {
     "data": {
      "image/png": "[encoded data removed]",
      "text/plain": [
       "<Figure size 640x480 with 1 Axes>"
      ]
     },
     "metadata": {},
     "output_type": "display_data"
    }
   ],
   "source": [
    "loyal = df.query('Exited == 0')\n",
    "exited = df.query('Exited == 1')\n",
    "plt.hist(df['CreditScore']);"
   ]
  },
  {
   "cell_type": "code",
   "execution_count": 140,
   "id": "3ae5893a",
   "metadata": {},
   "outputs": [
    {
     "data": {
      "image/png": "[encoded data removed]",
      "text/plain": [
       "<Figure size 640x480 with 1 Axes>"
      ]
     },
     "metadata": {},
     "output_type": "display_data"
    }
   ],
   "source": [
    "import statsmodels.api as sm\n",
    "import matplotlib.pyplot as plt\n",
    "\n",
    "# в качестве проверки на нормальное распределение используем график QQ-плот\n",
    "fig = sm.qqplot(df['CreditScore'], fit=True, line=\"45\")\n",
    "plt.show()"
   ]
  },
  {
   "cell_type": "markdown",
   "id": "dd33b593",
   "metadata": {},
   "source": [
    "Мы можем видеть на нашем графике QQ выше, что значения данных имеют тенденцию близко следовать 45-градусному, что означает, что данные, вероятно, нормально распределены."
   ]
  },
  {
   "cell_type": "markdown",
   "id": "07292adc-b92f-4663-b4f7-c31b5afa132d",
   "metadata": {},
   "source": [
    "## Easy"
   ]
  },
  {
   "cell_type": "markdown",
   "id": "71a0f5e6-a9d4-4114-bc7f-18ee081dfbc6",
   "metadata": {},
   "source": [
    "Вычислите двусторонние 95% доверительные интервалы для среднего по столбцу `CreditScore` в выборках `loyal` и `exited`, сделанных выше."
   ]
  },
  {
   "cell_type": "code",
   "execution_count": 148,
   "id": "9f34cdb8-f9cc-45ad-b2cf-8294bd660a0b",
   "metadata": {},
   "outputs": [
    {
     "data": {
      "text/plain": [
       "(649.7522633877345, 653.9541286755582)"
      ]
     },
     "execution_count": 148,
     "metadata": {},
     "output_type": "execute_result"
    }
   ],
   "source": [
    "# Ваш код ниже:\n",
    "X = loyal['CreditScore']\n",
    "st.norm.interval(0.95, loc=X.mean(), scale=st.sem(X))"
   ]
  },
  {
   "cell_type": "code",
   "execution_count": 149,
   "id": "4da406c0",
   "metadata": {},
   "outputs": [
    {
     "data": {
      "text/plain": [
       "(640.9949081547087, 649.7080864451931)"
      ]
     },
     "execution_count": 149,
     "metadata": {},
     "output_type": "execute_result"
    }
   ],
   "source": [
    "X = exited['CreditScore']\n",
    "st.norm.interval(0.95, loc=X.mean(), scale=st.sem(X))"
   ]
  },
  {
   "cell_type": "markdown",
   "id": "8f10f584-fe46-463c-9234-be49ef6ca325",
   "metadata": {},
   "source": [
    "## Normal"
   ]
  },
  {
   "cell_type": "markdown",
   "id": "84cf0168-9dcf-485a-ac1e-669ac2ca047a",
   "metadata": {},
   "source": [
    "Завершите исследование: проведите тесты на равенство средних в выборках `loyal` и `exited` по следующим столбцам:\n",
    "- `CreditScore`\n",
    "- `Age`\n",
    "- `Tenure`\n",
    "\n",
    "Примите уровень достоверности в 5%."
   ]
  },
  {
   "cell_type": "code",
   "execution_count": 143,
   "id": "b132721d",
   "metadata": {},
   "outputs": [
    {
     "name": "stdout",
     "output_type": "stream",
     "text": [
      "P-value 0.008464728991832862\n",
      "Отвергаем нулевую гипотезу.\n"
     ]
    }
   ],
   "source": [
    "criterion_value, p_value = st.ttest_ind(loyal['CreditScore'], exited['CreditScore'], equal_var=False)\n",
    "\n",
    "print(f'P-value {p_value}')\n",
    "if p_value < alpha:\n",
    "    print('Отвергаем нулевую гипотезу.')\n",
    "else:\n",
    "    print('Не удается опровергнуть нулевую гипотезу.')"
   ]
  },
  {
   "cell_type": "code",
   "execution_count": 144,
   "id": "7bab66a5-8876-4bd9-bcf0-a688becc6079",
   "metadata": {},
   "outputs": [
    {
     "name": "stdout",
     "output_type": "stream",
     "text": [
      "P-value 4.7127272656641046e-179\n",
      "Отвергаем нулевую гипотезу.\n"
     ]
    }
   ],
   "source": [
    "criterion_value, p_value = st.ttest_ind(loyal['Age'], exited['Age'], equal_var=False)\n",
    "\n",
    "print(f'P-value {p_value}')\n",
    "if p_value < alpha:\n",
    "    print('Отвергаем нулевую гипотезу.')\n",
    "else:\n",
    "    print('Не удается опровергнуть нулевую гипотезу.')"
   ]
  },
  {
   "cell_type": "code",
   "execution_count": 145,
   "id": "b36bacc0",
   "metadata": {},
   "outputs": [
    {
     "name": "stdout",
     "output_type": "stream",
     "text": [
      "P-value 0.16635698992884443\n",
      "Не удается опровергнуть нулевую гипотезу.\n"
     ]
    }
   ],
   "source": [
    "criterion_value, p_value = st.ttest_ind(loyal['Tenure'], exited['Tenure'], equal_var=False)\n",
    "alpha = 0.05\n",
    "print(f'P-value {p_value}')\n",
    "if p_value < alpha:\n",
    "    print('Отвергаем нулевую гипотезу.')\n",
    "else:\n",
    "    print('Не удается опровергнуть нулевую гипотезу.')"
   ]
  },
  {
   "cell_type": "markdown",
   "id": "86a722e4-d5c5-41d2-b3cb-7578b34ab731",
   "metadata": {},
   "source": [
    "**Напишите краткий вывод:** средние значения признаков CreditScore и Age в двух группах loyal и exited статистически значимо раличны между собой. Однако, средние значения Tenure в двух выборках не имеют статистически сильного различия, у нас нет оснований опровергуть нулевую гипотезу об их равенстве."
   ]
  },
  {
   "cell_type": "markdown",
   "id": "8adf8328-baf9-4bf8-8149-d3627be0253d",
   "metadata": {},
   "source": [
    "# Hard"
   ]
  },
  {
   "cell_type": "markdown",
   "id": "35364f4b-883d-49c6-8269-aaa2338ecf06",
   "metadata": {},
   "source": [
    "Вычислите одностороннний 95% доверительный интервал (в большую сторону) для минимума по столбцу `EstimatedSalary` методом bootstrap."
   ]
  },
  {
   "cell_type": "code",
   "execution_count": 146,
   "id": "a12f1383",
   "metadata": {},
   "outputs": [],
   "source": [
    "# Ваш код ниже:\n",
    "X = df['EstimatedSalary']\n",
    "b = st.bootstrap((X,), np.min, confidence_level=0.90, n_resamples=1000, random_state=177013)\n",
    "# Верхняя граница двустороннего доверительного интервала 90% совпадает с верхней границей 95% одностороннего дов. интервала \n",
    "# параметр alternative по умолчанию ‘two-sided’, для одностроннего интервала - ‘less’"
   ]
  },
  {
   "cell_type": "code",
   "execution_count": 147,
   "id": "b5745dd2",
   "metadata": {},
   "outputs": [
    {
     "data": {
      "text/plain": [
       "ConfidenceInterval(low=11.58, high=90.07)"
      ]
     },
     "execution_count": 147,
     "metadata": {},
     "output_type": "execute_result"
    }
   ],
   "source": [
    "b.confidence_interval"
   ]
  },
  {
   "cell_type": "markdown",
   "id": "92aae8ec",
   "metadata": {},
   "source": [
    "Верхняя граница односторонннего 95% доверительного интервала для минимума по столбцу `EstimatedSalary` методом bootstrap равно 90.07. "
   ]
  }
 ],
 "metadata": {
  "kernelspec": {
   "display_name": "Python 3 (ipykernel)",
   "language": "python",
   "name": "python3"
  },
  "language_info": {
   "codemirror_mode": {
    "name": "ipython",
    "version": 3
   },
   "file_extension": ".py",
   "mimetype": "text/x-python",
   "name": "python",
   "nbconvert_exporter": "python",
   "pygments_lexer": "ipython3",
   "version": "3.10.9"
  },
  "widgets": {
   "application/vnd.jupyter.widget-state+json": {
    "state": {},
    "version_major": 2,
    "version_minor": 0
   }
  }
 },
 "nbformat": 4,
 "nbformat_minor": 5
}
